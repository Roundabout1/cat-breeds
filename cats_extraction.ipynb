{
 "cells": [
  {
   "cell_type": "code",
   "execution_count": 12,
   "metadata": {},
   "outputs": [],
   "source": [
    "path_to_cats = \"data/oxford/cat_images\"\n",
    "path_to_train_folder = \"data/oxford/train\"\n",
    "path_to_valid_folder = \"data/oxford/valid\"\n",
    "path_to_test_folder = \"data/oxford/test\"\n",
    "breeds = [\"Abyssinian\", \"Bengal\", \"Birman\", \"Bombay\", \"British_Shorthair\", \"Egyptian_Mau\", \"Maine_Coon\", \"Persian\", \"Ragdoll\", \"Russian_Blue\", \"Siamese\", \"Sphynx\"]"
   ]
  },
  {
   "cell_type": "code",
   "execution_count": 13,
   "metadata": {},
   "outputs": [],
   "source": [
    "# извелечение изображений кошек\n",
    "import os\n",
    "import shutil\n",
    "\n",
    "path_to_images = \"data/oxford/images\"\n",
    "path_to_new_folder = path_to_cats\n",
    "if not os.path.exists(path_to_new_folder):\n",
    "    os.makedirs(path_to_new_folder)\n",
    "\n",
    "for breed in breeds:\n",
    "    for file_name in os.listdir(path_to_images):\n",
    "        if file_name.startswith(breed):\n",
    "            shutil.move(os.path.join(path_to_images, file_name), path_to_new_folder)"
   ]
  },
  {
   "cell_type": "code",
   "execution_count": 14,
   "metadata": {},
   "outputs": [],
   "source": [
    "# разделение изображений на 3 группы: обучающая, тестовая и валидирующая\n",
    "import os\n",
    "import random\n",
    "import shutil\n",
    "\n",
    "path_to_images = path_to_cats\n",
    "\n",
    "# Create the train, valid, and test folders if they don't exist\n",
    "for folder in [path_to_train_folder, path_to_valid_folder, path_to_test_folder]:\n",
    "    if not os.path.exists(folder):\n",
    "        os.makedirs(folder)\n",
    "\n",
    "# Get a list of all the image files\n",
    "image_files = os.listdir(path_to_images)\n",
    "\n",
    "# Shuffle the image files randomly\n",
    "random.shuffle(image_files)\n",
    "\n",
    "# Calculate the number of images for each group\n",
    "num_images = len(image_files)\n",
    "num_train_images = int(num_images * 0.7)\n",
    "num_valid_images = int(num_images * 0.15)\n",
    "num_test_images = num_images - num_train_images - num_valid_images\n",
    "\n",
    "# Move the images to the train, valid, and test folders\n",
    "for i, image_file in enumerate(image_files):\n",
    "    if i < num_train_images:\n",
    "        shutil.move(os.path.join(path_to_images, image_file), path_to_train_folder)\n",
    "    elif i < num_train_images + num_valid_images:\n",
    "        shutil.move(os.path.join(path_to_images, image_file), path_to_valid_folder)\n",
    "    else:\n",
    "        shutil.move(os.path.join(path_to_images, image_file), path_to_test_folder)"
   ]
  },
  {
   "cell_type": "code",
   "execution_count": 17,
   "metadata": {},
   "outputs": [],
   "source": [
    "import os\n",
    "import shutil\n",
    "\n",
    "path_to_images = path_to_cats\n",
    "\n",
    "path_to_folders = [path_to_test_folder, path_to_train_folder, path_to_valid_folder]\n",
    "\n",
    "for folder in path_to_folders:\n",
    "\n",
    "    for breed in breeds:\n",
    "        path = os.path.join(folder, breed)\n",
    "        if not os.path.exists(path):\n",
    "            os.makedirs(path)\n",
    "    # Get a list of all the image files\n",
    "    image_files = os.listdir(folder)\n",
    "\n",
    "    # Move the images to the train, valid, and test folders\n",
    "    for image_file in image_files:\n",
    "        for breed in breeds: \n",
    "            if image_file.startswith(breed):\n",
    "                shutil.move(os.path.join(folder, image_file), os.path.join(folder, breed))"
   ]
  }
 ],
 "metadata": {
  "kernelspec": {
   "display_name": "Python 3",
   "language": "python",
   "name": "python3"
  },
  "language_info": {
   "codemirror_mode": {
    "name": "ipython",
    "version": 3
   },
   "file_extension": ".py",
   "mimetype": "text/x-python",
   "name": "python",
   "nbconvert_exporter": "python",
   "pygments_lexer": "ipython3",
   "version": "3.11.4"
  }
 },
 "nbformat": 4,
 "nbformat_minor": 2
}
